{
 "cells": [
  {
   "cell_type": "markdown",
   "metadata": {},
   "source": [
    "## Final Project Submission\n",
    "\n",
    "* Student name: Sandra Jebet Kiptum\n",
    "* Student pace: Full time, Hybrid\n",
    "* Scheduled project review date/time: \n",
    "* Instructor name: Diana Mongina/ Nikita Njoroge\n",
    "* Blog post URL:\n"
   ]
  },
  {
   "cell_type": "markdown",
   "metadata": {},
   "source": [
    "# Microsoft Movie Studio Analysis\n",
    "\n",
    "Microsoft wants to break into the movie studio industry; they are new here and want to use the data route to ensure maximum success and profitability. What this project aims to achieve is to explore data on the type of films currently doing well at other movie studios and to provide actionable isights that the head of microsoft movie studio can use to decide what type of films to create\n"
   ]
  },
  {
   "cell_type": "markdown",
   "metadata": {},
   "source": [
    "## Business Understanding\n",
    "### Introduction\n",
    "This project aims to address the real world problem of maximising success and profitability in the film production industry for our client(Microsoft). It seeks to provide actionable and valuable insights to enable our client to make informed decisions about genre selection, audience targeting and competing effectively in this field\n",
    "\n",
    "### Identifying the Real-World Problem\n",
    "The following are the real world problems that the project is trying to solve:\n",
    "\n",
    "* Optmizing genre selection <br>\n",
    "this will be done by analysing genre performance to prioritise high potential genres and act as a guide for resource allocation\n",
    "\n",
    "* Identifying gaps in the market <br>\n",
    "we will conduct analysis to identify untapped market gaps and innovate within genres levereging unmet audience needds\n",
    "\n",
    "* Mitigating risks <br>\n",
    "this can be done by using the data to make informed decisions when greenlighting films for production\n",
    "\n",
    "* Maximising ROI <br>\n",
    "this will be done by encouraging the studio to focus on high performing genre and to focus on competitive strategies aligned with audience preference \n",
    "\n",
    "### Understanding the stakeholders\n",
    "The stakeholders include:\n",
    "* Film investors seeking to invest in projects with high potential for financial return\n",
    "* Executives at the movie studio responsible for greenlighting film projects and allocating resources\n",
    "* Distributors and marketers responsible for promoting and distributing films to audiences.\n",
    "* Producers, directors, and creative teams involved in the development and production of films.\n",
    "\n",
    "### Conclusion\n",
    "The project's insights offer significant benefits for addressing real-world challenges in the film industry and benefiting stakeholders. By providing actionable insights into genre performance, competition, and audience preferences, stakeholders can make informed decisions, mitigate risks, and maximize ROI. This leads to improved strategic decision-making, increased success, and enhanced competitiveness for the studio, ultimately achieving the goal of maximizing profitability in the industry\n",
    "\n"
   ]
  },
  {
   "cell_type": "markdown",
   "metadata": {},
   "source": [
    "## Data Understanding\n"
   ]
  },
  {
   "cell_type": "markdown",
   "metadata": {},
   "source": [
    "## Data preparation"
   ]
  },
  {
   "cell_type": "code",
   "execution_count": null,
   "metadata": {},
   "outputs": [],
   "source": []
  },
  {
   "cell_type": "code",
   "execution_count": 1,
   "metadata": {},
   "outputs": [],
   "source": [
    "# Importing all the neccesary libraries\n",
    "import pandas as pandas\n",
    "import sqlite3\n",
    "import numpy as np\n",
    "import seaborn as sns\n",
    "\n"
   ]
  },
  {
   "cell_type": "code",
   "execution_count": null,
   "metadata": {},
   "outputs": [],
   "source": [
    "# loading all our data sets\n",
    "bom_data = pd.read_csv(\"./unzippedData/bom.movie_gross.csv\")\n",
    "tmdb_data = pd.read_csv(\"./unzippedData/tmdb.movies.csv\")\n",
    "tn_movie_budgets_data = pd.read_csv(\"./unzippedData/tn.movie_budgets.csv\")\n",
    "rt_movie_data = pd.read_csv('./unzippedData/rt.movie_info.tsv', sep='\\t')\n",
    "rt_reviews_data = pd.read_csv('./unzippedData/rt.reviews.tsv', sep='\\t')\n",
    "# connecting to the database\n",
    "conn = sqlite3.Connection(\"data.sqlite\")\n"
   ]
  }
 ],
 "metadata": {
  "kernelspec": {
   "display_name": "Python 3",
   "language": "python",
   "name": "python3"
  },
  "language_info": {
   "codemirror_mode": {
    "name": "ipython",
    "version": 3
   },
   "file_extension": ".py",
   "mimetype": "text/x-python",
   "name": "python",
   "nbconvert_exporter": "python",
   "pygments_lexer": "ipython3",
   "version": "3.8.5"
  }
 },
 "nbformat": 4,
 "nbformat_minor": 2
}
